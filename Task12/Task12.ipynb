{
 "cells": [
  {
   "cell_type": "code",
   "execution_count": 1,
   "metadata": {},
   "outputs": [],
   "source": [
    "import pandas as pd\n",
    "import numpy as np"
   ]
  },
  {
   "cell_type": "code",
   "execution_count": 21,
   "metadata": {},
   "outputs": [],
   "source": [
    "#1\n",
    "list_data = [10, 20, 30]\n",
    "array_data = np.array([40, 50, 60])\n",
    "dict_data = {'a': 70, 'b': 80, 'c': 90}\n",
    "\n",
    "series_from_list = pd.Series(list_data)\n",
    "series_from_array = pd.Series(array_data)\n",
    "series_from_dict = pd.Series(dict_data)"
   ]
  },
  {
   "cell_type": "code",
   "execution_count": 22,
   "metadata": {},
   "outputs": [],
   "source": [
    "#2\n",
    "custom_index_series = pd.Series(list_data, index=['x', 'y', 'z'])"
   ]
  },
  {
   "cell_type": "code",
   "execution_count": 26,
   "metadata": {},
   "outputs": [],
   "source": [
    "#3\n",
    "series_sum = series_from_list + series_from_array\n",
    "series_product = series_from_list * 2"
   ]
  },
  {
   "cell_type": "code",
   "execution_count": 27,
   "metadata": {},
   "outputs": [],
   "source": [
    "#4\n",
    "element_by_label = custom_index_series['y']\n",
    "element_by_position = custom_index_series.iloc[1]"
   ]
  },
  {
   "cell_type": "code",
   "execution_count": 28,
   "metadata": {},
   "outputs": [],
   "source": [
    "#5\n",
    "filtered_series = custom_index_series[custom_index_series > 15]\n"
   ]
  },
  {
   "cell_type": "code",
   "execution_count": 29,
   "metadata": {},
   "outputs": [],
   "source": [
    "#6\n",
    "data = {\n",
    "    'Name': ['Alice', 'Bob', 'Charlie'],\n",
    "    'Age': [25, 30, 35],\n",
    "    'City': ['New York', 'Los Angeles', 'Chicago']\n",
    "}\n",
    "df_from_dict = pd.DataFrame(data)"
   ]
  },
  {
   "cell_type": "code",
   "execution_count": 30,
   "metadata": {},
   "outputs": [],
   "source": [
    "#7\n",
    "array_data = np.array([[1, 2, 3], [4, 5, 6], [7, 8, 9]])\n",
    "df_from_array = pd.DataFrame(array_data, columns=['A', 'B', 'C'], index=['row1', 'row2', 'row3'])"
   ]
  },
  {
   "cell_type": "code",
   "execution_count": 34,
   "metadata": {},
   "outputs": [],
   "source": [
    "#8\n",
    "import seaborn as sns\n",
    "df_from_csv = sns.load_dataset('titanic')\n",
    "\n",
    "# OR we can also\n",
    "# df_from_csv = pd.read_csv('your_file.csv')"
   ]
  },
  {
   "cell_type": "code",
   "execution_count": 36,
   "metadata": {},
   "outputs": [
    {
     "name": "stdout",
     "output_type": "stream",
     "text": [
      "First five rows:\n",
      "       Name  Age         City\n",
      "0    Alice   25     New York\n",
      "1      Bob   30  Los Angeles\n",
      "2  Charlie   35      Chicago\n",
      "Last five rows:\n",
      "       Name  Age         City\n",
      "0    Alice   25     New York\n",
      "1      Bob   30  Los Angeles\n",
      "2  Charlie   35      Chicago\n"
     ]
    }
   ],
   "source": [
    "#9\n",
    "print(\"First five rows:\\n\", df_from_dict.head())\n",
    "print(\"Last five rows:\\n\", df_from_dict.tail())"
   ]
  },
  {
   "cell_type": "code",
   "execution_count": 48,
   "metadata": {},
   "outputs": [
    {
     "name": "stdout",
     "output_type": "stream",
     "text": [
      "Summary:\n",
      "        Years\n",
      "count    3.0\n",
      "mean    30.0\n",
      "std      5.0\n",
      "min     25.0\n",
      "25%     27.5\n",
      "50%     30.0\n",
      "75%     32.5\n",
      "max     35.0\n",
      "Mean values:\n",
      " Years    30.0\n",
      "dtype: float64\n",
      "Median values:\n",
      " Years    30.0\n",
      "dtype: float64\n",
      "Standard deviation:\n",
      " Years    5.0\n",
      "dtype: float64\n"
     ]
    }
   ],
   "source": [
    "#10\n",
    "summary = df_from_dict.describe()\n",
    "mean_values = df_from_dict.mean(numeric_only=True)\n",
    "median_values = df_from_dict.median(numeric_only=True)\n",
    "std_dev = df_from_dict.std(numeric_only=True)\n",
    "\n",
    "print(\"Summary:\\n\", summary)\n",
    "print(\"Mean values:\\n\", mean_values)\n",
    "print(\"Median values:\\n\", median_values)\n",
    "print(\"Standard deviation:\\n\", std_dev)\n"
   ]
  },
  {
   "cell_type": "code",
   "execution_count": 38,
   "metadata": {},
   "outputs": [],
   "source": [
    "#11\n",
    "age_series = df_from_dict['Age']"
   ]
  },
  {
   "cell_type": "code",
   "execution_count": 39,
   "metadata": {},
   "outputs": [],
   "source": [
    "#12\n",
    "filtered_df = df_from_dict[df_from_dict['Age'] > 28]"
   ]
  },
  {
   "cell_type": "code",
   "execution_count": 40,
   "metadata": {},
   "outputs": [],
   "source": [
    "#13\n",
    "multiple_conditions_df = df_from_dict[(df_from_dict['Age'] > 28) & (df_from_dict['City'] == 'Los Angeles')]"
   ]
  },
  {
   "cell_type": "code",
   "execution_count": 41,
   "metadata": {},
   "outputs": [],
   "source": [
    "#14\n",
    "df_from_dict['Salary'] = [50000, 60000, 70000]"
   ]
  },
  {
   "cell_type": "code",
   "execution_count": 42,
   "metadata": {},
   "outputs": [],
   "source": [
    "#15\n",
    "df_from_dict = df_from_dict.drop('Salary', axis=1)"
   ]
  },
  {
   "cell_type": "code",
   "execution_count": 43,
   "metadata": {},
   "outputs": [
    {
     "name": "stdout",
     "output_type": "stream",
     "text": [
      "Updated DataFrame:\n",
      "   Full Name  Years         City\n",
      "0     Alice     25     New York\n",
      "1       Bob     30  Los Angeles\n",
      "2   Charlie     35      Chicago\n"
     ]
    }
   ],
   "source": [
    "#16\n",
    "df_from_dict = df_from_dict.rename(columns={'Name': 'Full Name', 'Age': 'Years'})\n",
    "\n",
    "print(\"Updated DataFrame:\\n\", df_from_dict)"
   ]
  }
 ],
 "metadata": {
  "kernelspec": {
   "display_name": "Python 3",
   "language": "python",
   "name": "python3"
  },
  "language_info": {
   "codemirror_mode": {
    "name": "ipython",
    "version": 3
   },
   "file_extension": ".py",
   "mimetype": "text/x-python",
   "name": "python",
   "nbconvert_exporter": "python",
   "pygments_lexer": "ipython3",
   "version": "3.12.1"
  }
 },
 "nbformat": 4,
 "nbformat_minor": 2
}
