{
 "cells": [
  {
   "cell_type": "code",
   "execution_count": 1,
   "metadata": {},
   "outputs": [],
   "source": [
    "import numpy as np"
   ]
  },
  {
   "cell_type": "code",
   "execution_count": 2,
   "metadata": {},
   "outputs": [],
   "source": [
    "# Define the activation function and its derivative\n",
    "def sigmoid(x):\n",
    "    return 1 / (1 + np.exp(-x))\n",
    "\n",
    "def sigmoid_derivative(x):\n",
    "    return x * (1 - x)"
   ]
  },
  {
   "cell_type": "code",
   "execution_count": 3,
   "metadata": {},
   "outputs": [],
   "source": [
    "# Define the Mean Squared Error loss function and its derivative\n",
    "def mse_loss(y_true, y_pred):\n",
    "    return np.mean((y_true - y_pred) ** 2)\n",
    "\n",
    "def mse_loss_derivative(y_true, y_pred):\n",
    "    return 2 * (y_pred - y_true) / y_true.size"
   ]
  },
  {
   "cell_type": "code",
   "execution_count": 4,
   "metadata": {},
   "outputs": [],
   "source": [
    "# Initialize the network parameters\n",
    "input_size = 1\n",
    "hidden_size = 10\n",
    "output_size = 1"
   ]
  },
  {
   "cell_type": "code",
   "execution_count": 5,
   "metadata": {},
   "outputs": [],
   "source": [
    "# Weights and biases\n",
    "W1 = np.random.randn(input_size, hidden_size)\n",
    "b1 = np.zeros((1, hidden_size))\n",
    "W2 = np.random.randn(hidden_size, output_size)\n",
    "b2 = np.zeros((1, output_size))"
   ]
  },
  {
   "cell_type": "code",
   "execution_count": 6,
   "metadata": {},
   "outputs": [],
   "source": [
    "# Forward pass\n",
    "def forward(X):\n",
    "    z1 = np.dot(X, W1) + b1\n",
    "    a1 = sigmoid(z1)\n",
    "    z2 = np.dot(a1, W2) + b2\n",
    "    y_pred = z2  # For regression, we use a linear activation function in the output layer\n",
    "    return y_pred, a1"
   ]
  },
  {
   "cell_type": "code",
   "execution_count": 12,
   "metadata": {},
   "outputs": [],
   "source": [
    "# Backward pass\n",
    "def backward(X, y_true, y_pred, a1, learning_rate=0.01):\n",
    "    global W1, b1, W2, b2\n",
    "    # Calculate the gradient of the loss with respect to output\n",
    "    dL_dy_pred = mse_loss_derivative(y_true, y_pred)\n",
    "\n",
    "    # Calculate the gradients for the second layer\n",
    "    dL_dW2 = np.dot(a1.T, dL_dy_pred)\n",
    "    dL_db2 = np.sum(dL_dy_pred, axis=0, keepdims=True)\n",
    "    \n",
    "    # Calculate the gradients for the first layer\n",
    "    dL_da1 = np.dot(dL_dy_pred, W2.T)\n",
    "    dL_dz1 = dL_da1 * sigmoid_derivative(a1)\n",
    "    dL_dW1 = np.dot(X.T, dL_dz1)\n",
    "    dL_db1 = np.sum(dL_dz1, axis=0, keepdims=True)\n",
    "    \n",
    "    # Update weights and biases\n",
    "    W1 -= learning_rate * dL_dW1\n",
    "    b1 -= learning_rate * dL_db1\n",
    "    W2 -= learning_rate * dL_dW2\n",
    "    b2 -= learning_rate * dL_db2\n",
    "\n",
    "\n",
    "    "
   ]
  },
  {
   "cell_type": "code",
   "execution_count": 13,
   "metadata": {},
   "outputs": [],
   "source": [
    "# Training the network\n",
    "def train(X, y, epochs=1000, learning_rate=0.01):\n",
    "    for epoch in range(epochs):\n",
    "        y_pred, a1 = forward(X)\n",
    "        loss = mse_loss(y, y_pred)\n",
    "        backward(X, y, y_pred, a1, learning_rate)\n",
    "        if epoch % 100 == 0:\n",
    "            print(f\"Epoch {epoch}, Loss: {loss}\")"
   ]
  },
  {
   "cell_type": "code",
   "execution_count": 14,
   "metadata": {},
   "outputs": [],
   "source": [
    "# Generate some sample data for training\n",
    "X = np.array([[i] for i in range(-50, 50)])\n",
    "y = 2 * X + 1  # Linear relation with some noise"
   ]
  },
  {
   "cell_type": "code",
   "execution_count": 15,
   "metadata": {},
   "outputs": [
    {
     "name": "stdout",
     "output_type": "stream",
     "text": [
      "Epoch 0, Loss: 3489.6112216628057\n",
      "Epoch 100, Loss: 832.5406784502022\n",
      "Epoch 200, Loss: 808.7303787543738\n",
      "Epoch 300, Loss: 811.0401341562782\n",
      "Epoch 400, Loss: 808.6851566107373\n",
      "Epoch 500, Loss: 810.1347161310671\n",
      "Epoch 600, Loss: 809.2053937976522\n",
      "Epoch 700, Loss: 808.9828408843038\n",
      "Epoch 800, Loss: 808.8530675169567\n",
      "Epoch 900, Loss: 808.7612930426337\n"
     ]
    },
    {
     "name": "stderr",
     "output_type": "stream",
     "text": [
      "C:\\Users\\SHAHEER AHMED\\AppData\\Local\\Temp\\ipykernel_13328\\3308897882.py:3: RuntimeWarning: overflow encountered in exp\n",
      "  return 1 / (1 + np.exp(-x))\n"
     ]
    }
   ],
   "source": [
    "# Train the neural network\n",
    "train(X, y, epochs=1000, learning_rate=0.01)"
   ]
  },
  {
   "cell_type": "code",
   "execution_count": 16,
   "metadata": {},
   "outputs": [
    {
     "name": "stdout",
     "output_type": "stream",
     "text": [
      "Predictions: [[-50.01492757]\n",
      " [-50.01492757]\n",
      " [-50.01492757]\n",
      " [-50.01492757]\n",
      " [-50.01492757]\n",
      " [-50.01492757]\n",
      " [-50.01492757]\n",
      " [-50.01492757]\n",
      " [-50.01492757]\n",
      " [-50.01492757]\n",
      " [-50.01492757]\n",
      " [-50.01492757]\n",
      " [-50.01492757]\n",
      " [-50.01492757]\n",
      " [-50.01492757]\n",
      " [-50.01492757]\n",
      " [-50.01492757]\n",
      " [-50.01492757]\n",
      " [-50.01492757]\n",
      " [-50.01492757]\n",
      " [-50.01492757]\n",
      " [-50.01492757]\n",
      " [-50.01492757]\n",
      " [-50.01492757]\n",
      " [-50.01492757]\n",
      " [-50.01492757]\n",
      " [-50.01492757]\n",
      " [-50.01492757]\n",
      " [-50.01492757]\n",
      " [-50.01492757]\n",
      " [-50.01492757]\n",
      " [-50.01492757]\n",
      " [-50.01492757]\n",
      " [-50.01492757]\n",
      " [-50.01492757]\n",
      " [-50.01492757]\n",
      " [-50.01492757]\n",
      " [-50.01492757]\n",
      " [-50.01492757]\n",
      " [-50.01492757]\n",
      " [-50.01492757]\n",
      " [-50.01492757]\n",
      " [-50.01492757]\n",
      " [-50.01492758]\n",
      " [-50.01492772]\n",
      " [-50.01492915]\n",
      " [-50.0149446 ]\n",
      " [-50.01512283]\n",
      " [-50.01799915]\n",
      " [-50.10349641]\n",
      " [  1.00493097]\n",
      " [ 51.13383746]\n",
      " [ 51.03847677]\n",
      " [ 51.03551462]\n",
      " [ 51.0353331 ]\n",
      " [ 51.03531739]\n",
      " [ 51.03531593]\n",
      " [ 51.03531579]\n",
      " [ 51.03531578]\n",
      " [ 51.03531578]\n",
      " [ 51.03531578]\n",
      " [ 51.03531578]\n",
      " [ 51.03531578]\n",
      " [ 51.03531578]\n",
      " [ 51.03531578]\n",
      " [ 51.03531578]\n",
      " [ 51.03531578]\n",
      " [ 51.03531578]\n",
      " [ 51.03531578]\n",
      " [ 51.03531578]\n",
      " [ 51.03531578]\n",
      " [ 51.03531578]\n",
      " [ 51.03531578]\n",
      " [ 51.03531578]\n",
      " [ 51.03531578]\n",
      " [ 51.03531578]\n",
      " [ 51.03531578]\n",
      " [ 51.03531578]\n",
      " [ 51.03531578]\n",
      " [ 51.03531578]\n",
      " [ 51.03531578]\n",
      " [ 51.03531578]\n",
      " [ 51.03531578]\n",
      " [ 51.03531578]\n",
      " [ 51.03531578]\n",
      " [ 51.03531578]\n",
      " [ 51.03531578]\n",
      " [ 51.03531578]\n",
      " [ 51.03531578]\n",
      " [ 51.03531578]\n",
      " [ 51.03531578]\n",
      " [ 51.03531578]\n",
      " [ 51.03531578]\n",
      " [ 51.03531578]\n",
      " [ 51.03531578]\n",
      " [ 51.03531578]\n",
      " [ 51.03531578]\n",
      " [ 51.03531578]\n",
      " [ 51.03531578]\n",
      " [ 51.03531578]]\n"
     ]
    },
    {
     "name": "stderr",
     "output_type": "stream",
     "text": [
      "C:\\Users\\SHAHEER AHMED\\AppData\\Local\\Temp\\ipykernel_13328\\3308897882.py:3: RuntimeWarning: overflow encountered in exp\n",
      "  return 1 / (1 + np.exp(-x))\n"
     ]
    }
   ],
   "source": [
    "# Predict and evaluate\n",
    "y_pred, _ = forward(X)\n",
    "print(\"Predictions:\", y_pred)"
   ]
  }
 ],
 "metadata": {
  "kernelspec": {
   "display_name": "Python 3",
   "language": "python",
   "name": "python3"
  },
  "language_info": {
   "codemirror_mode": {
    "name": "ipython",
    "version": 3
   },
   "file_extension": ".py",
   "mimetype": "text/x-python",
   "name": "python",
   "nbconvert_exporter": "python",
   "pygments_lexer": "ipython3",
   "version": "3.12.1"
  }
 },
 "nbformat": 4,
 "nbformat_minor": 2
}
