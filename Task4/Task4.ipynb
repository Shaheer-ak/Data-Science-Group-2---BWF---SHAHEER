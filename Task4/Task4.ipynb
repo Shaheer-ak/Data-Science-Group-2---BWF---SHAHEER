{
 "cells": [
  {
   "cell_type": "markdown",
   "metadata": {},
   "source": [
    "# Simple Calculator"
   ]
  },
  {
   "cell_type": "code",
   "execution_count": 2,
   "metadata": {},
   "outputs": [
    {
     "name": "stdout",
     "output_type": "stream",
     "text": [
      "Enter Two Numbers here: \n",
      "The sum of 2 and 3 is: 5\n",
      "The difference between 2 and 3 is: -1\n",
      "The product of 2 and 3 is: 6\n",
      "The quotient of 2 divided by 3 is: 0.6666666666666666\n"
     ]
    }
   ],
   "source": [
    "\n",
    "print(\"Enter Two Numbers here: \")\n",
    "num1 = int(input(\"Enter the first number: \"))\n",
    "num2 = int(input(\"Enter the second number: \"))\n",
    "\n",
    "# Calculate the sum, difference, product, and quotient\n",
    "addition = num1 + num2\n",
    "subtraction = num1 - num2\n",
    "multiply = num1 * num2\n",
    "\n",
    "# Check if the second number is not zero to avoid division by zero\n",
    "if num2 != 0:\n",
    "    divide = float(num1 / num2)\n",
    "else:\n",
    "    divide = \"undefined (cannot divide by zero)\"\n",
    "\n",
    "# Display the results\n",
    "print(f\"The sum of {num1} and {num2} is: {addition}\")\n",
    "print(f\"The difference between {num1} and {num2} is: {subtraction}\")\n",
    "print(f\"The product of {num1} and {num2} is: {multiply}\")\n",
    "print(f\"The quotient of {num1} divided by {num2} is: {divide}\")\n"
   ]
  }
 ],
 "metadata": {
  "kernelspec": {
   "display_name": "Python 3",
   "language": "python",
   "name": "python3"
  },
  "language_info": {
   "codemirror_mode": {
    "name": "ipython",
    "version": 3
   },
   "file_extension": ".py",
   "mimetype": "text/x-python",
   "name": "python",
   "nbconvert_exporter": "python",
   "pygments_lexer": "ipython3",
   "version": "3.12.1"
  }
 },
 "nbformat": 4,
 "nbformat_minor": 2
}
