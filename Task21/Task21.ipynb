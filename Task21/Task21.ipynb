{
 "cells": [
  {
   "cell_type": "code",
   "execution_count": 2,
   "metadata": {},
   "outputs": [],
   "source": [
    "import numpy as np\n",
    "from scipy.optimize import minimize\n"
   ]
  },
  {
   "cell_type": "code",
   "execution_count": 3,
   "metadata": {},
   "outputs": [
    {
     "name": "stdout",
     "output_type": "stream",
     "text": [
      "Zero Matrix:\n",
      " [[0. 0. 0.]\n",
      " [0. 0. 0.]\n",
      " [0. 0. 0.]]\n"
     ]
    }
   ],
   "source": [
    "#Task 1: Create a zero matrix\n",
    "zero_matrix = np.zeros((3, 3))\n",
    "print(\"Zero Matrix:\\n\", zero_matrix)"
   ]
  },
  {
   "cell_type": "code",
   "execution_count": 4,
   "metadata": {},
   "outputs": [
    {
     "name": "stdout",
     "output_type": "stream",
     "text": [
      "Identity Matrix:\n",
      " [[1. 0. 0.]\n",
      " [0. 1. 0.]\n",
      " [0. 0. 1.]]\n"
     ]
    }
   ],
   "source": [
    "# Task 2: Create an identity matrix\n",
    "identity_matrix = np.eye(3)\n",
    "print(\"Identity Matrix:\\n\", identity_matrix)"
   ]
  },
  {
   "cell_type": "code",
   "execution_count": 5,
   "metadata": {},
   "outputs": [
    {
     "name": "stdout",
     "output_type": "stream",
     "text": [
      "Random Matrix:\n",
      " [[0.61462445 0.05770168 0.59173269]\n",
      " [0.66370649 0.72365979 0.005419  ]\n",
      " [0.91679549 0.72301184 0.81393541]]\n"
     ]
    }
   ],
   "source": [
    "# Task 3: Create a random matrix\n",
    "random_matrix = np.random.rand(3, 3)\n",
    "print(\"Random Matrix:\\n\", random_matrix)"
   ]
  },
  {
   "cell_type": "code",
   "execution_count": 7,
   "metadata": {},
   "outputs": [
    {
     "name": "stdout",
     "output_type": "stream",
     "text": [
      "Matrix Addition:\n",
      " [[ 6  8]\n",
      " [10 12]]\n",
      "Matrix Subtraction:\n",
      " [[-4 -4]\n",
      " [-4 -4]]\n",
      "Matrix Multiplication:\n",
      " [[19 22]\n",
      " [43 50]]\n"
     ]
    }
   ],
   "source": [
    "# Task 4: Basic matrix operations\n",
    "A = np.array([[1, 2], [3, 4]])\n",
    "B = np.array([[5, 6], [7, 8]])\n",
    "C = A + B\n",
    "print(\"Matrix Addition:\\n\", C)\n",
    "D = A - B\n",
    "print(\"Matrix Subtraction:\\n\", D)\n",
    "E = np.dot(A, B)\n",
    "print(\"Matrix Multiplication:\\n\", E)"
   ]
  },
  {
   "cell_type": "code",
   "execution_count": 8,
   "metadata": {},
   "outputs": [
    {
     "name": "stdout",
     "output_type": "stream",
     "text": [
      "Transpose of Matrix A:\n",
      " [[1 3]\n",
      " [2 4]]\n"
     ]
    }
   ],
   "source": [
    "# Task 5: Transpose a matrix\n",
    "transpose_A = A.T\n",
    "print(\"Transpose of Matrix A:\\n\", transpose_A)"
   ]
  },
  {
   "cell_type": "code",
   "execution_count": 9,
   "metadata": {},
   "outputs": [
    {
     "name": "stdout",
     "output_type": "stream",
     "text": [
      "Determinant of A: -2.0000000000000004\n",
      "Inverse of A:\n",
      " [[-2.   1. ]\n",
      " [ 1.5 -0.5]]\n"
     ]
    }
   ],
   "source": [
    "# Task 6: Find the determinant and inverse of a matrix\n",
    "det_A = np.linalg.det(A)\n",
    "inv_A = np.linalg.inv(A)\n",
    "print(\"Determinant of A:\", det_A)\n",
    "print(\"Inverse of A:\\n\", inv_A)"
   ]
  },
  {
   "cell_type": "code",
   "execution_count": 10,
   "metadata": {},
   "outputs": [
    {
     "name": "stdout",
     "output_type": "stream",
     "text": [
      "Solution to the system of equations: [-4.   4.5]\n"
     ]
    }
   ],
   "source": [
    "# Task 7: Solve a system of linear equations\n",
    "b = np.array([5, 6])\n",
    "x = np.linalg.solve(A, b)\n",
    "print(\"Solution to the system of equations:\", x)"
   ]
  },
  {
   "cell_type": "code",
   "execution_count": 11,
   "metadata": {},
   "outputs": [
    {
     "name": "stdout",
     "output_type": "stream",
     "text": [
      "Vector Sum: [4 6]\n",
      "Dot Product: 11\n",
      "Cross Product: -2\n"
     ]
    }
   ],
   "source": [
    "# Task 11: Basic vector operations (addition, dot product, cross product)\n",
    "v1 = np.array([1, 2])\n",
    "v2 = np.array([3, 4])\n",
    "v_sum = v1 + v2\n",
    "v_dot_product = np.dot(v1, v2)\n",
    "v_cross_product = np.cross(v1, v2)\n",
    "print(\"Vector Sum:\", v_sum)\n",
    "print(\"Dot Product:\", v_dot_product)\n",
    "print(\"Cross Product:\", v_cross_product)"
   ]
  },
  {
   "cell_type": "code",
   "execution_count": 12,
   "metadata": {},
   "outputs": [
    {
     "name": "stdout",
     "output_type": "stream",
     "text": [
      "Norm of v1: 2.23606797749979\n",
      "Normalized v1: [0.4472136  0.89442719]\n"
     ]
    }
   ],
   "source": [
    "# Task: Normalize a vector and compute vector norms\n",
    "norm_v1 = np.linalg.norm(v1)\n",
    "normalized_v1 = v1 / norm_v1\n",
    "print(\"Norm of v1:\", norm_v1)\n",
    "print(\"Normalized v1:\", normalized_v1)"
   ]
  },
  {
   "cell_type": "code",
   "execution_count": 13,
   "metadata": {},
   "outputs": [
    {
     "name": "stdout",
     "output_type": "stream",
     "text": [
      "Numerical derivative at x=1.0: 2.54030288515672\n"
     ]
    }
   ],
   "source": [
    "# Compute the numerical derivative of a given function\n",
    "def f(x):\n",
    "    return x**2 + np.sin(x)\n",
    "\n",
    "def numerical_derivative(func, x, h=1e-6):\n",
    "    return (func(x + h) - func(x)) / h\n",
    "\n",
    "x = 1.0\n",
    "derivative = numerical_derivative(f, x)\n",
    "print(f'Numerical derivative at x={x}: {derivative}')"
   ]
  },
  {
   "cell_type": "code",
   "execution_count": 14,
   "metadata": {},
   "outputs": [
    {
     "name": "stdout",
     "output_type": "stream",
     "text": [
      "Numerical integral using Trapezoidal rule: 1.999998351770852\n",
      "Numerical integral using Simpson's rule: 1.9979917671073473\n"
     ]
    }
   ],
   "source": [
    "# Compute the numerical integral of a given function\n",
    "def f(x):\n",
    "    return np.sin(x)\n",
    "\n",
    "def numerical_integral(func, a, b, method='trapezoidal', N=1000):\n",
    "    x = np.linspace(a, b, N)\n",
    "    dx = (b - a) / N\n",
    "    \n",
    "    if method == 'trapezoidal':\n",
    "        integral = np.trapz(func(x), x)\n",
    "    elif method == 'simpson':\n",
    "        integral = np.sum(dx / 3 * (func(x[0]) + 4*func(x[1:-1:2]).sum() + 2*func(x[2:-2:2]).sum() + func(x[-1])))\n",
    "    else:\n",
    "        raise ValueError(f'Method {method} is not supported.')\n",
    "\n",
    "    return integral\n",
    "\n",
    "a, b = 0, np.pi\n",
    "integral_trapezoidal = numerical_integral(f, a, b, method='trapezoidal')\n",
    "integral_simpson = numerical_integral(f, a, b, method='simpson')\n",
    "print(f'Numerical integral using Trapezoidal rule: {integral_trapezoidal}')\n",
    "print(f'Numerical integral using Simpson\\'s rule: {integral_simpson}')\n"
   ]
  },
  {
   "cell_type": "code",
   "execution_count": 15,
   "metadata": {},
   "outputs": [],
   "source": [
    "# Calculate partial derivatives of multivariable functions\n",
    "def f(x, y):\n",
    "    return x**2 + y**3\n",
    "\n",
    "def partial_derivative(func, var='x', point=(1, 2), h=1e-6):\n",
    "    if var == 'x':\n",
    "        return (func(point[0] + h, point[1]) - func(point[0], point[1])) / h\n",
    "    elif var == 'y':\n",
    "        return (func(point[0], point[1] + h) - func(point[0], point[1])) / h\n",
    "    else:\n",
    "        raise ValueError(f'Variable {var} is not supported.')"
   ]
  },
  {
   "cell_type": "code",
   "execution_count": 16,
   "metadata": {},
   "outputs": [
    {
     "name": "stdout",
     "output_type": "stream",
     "text": [
      "Partial derivative with respect to x: 2.0000010003684565\n",
      "Partial derivative with respect to y: 12.000006002210739\n"
     ]
    }
   ],
   "source": [
    "# Example usage\n",
    "partial_x = partial_derivative(f, var='x', point=(1, 2))\n",
    "partial_y = partial_derivative(f, var='y', point=(1, 2))\n",
    "print(f'Partial derivative with respect to x: {partial_x}')\n",
    "print(f'Partial derivative with respect to y: {partial_y}')"
   ]
  },
  {
   "cell_type": "code",
   "execution_count": 17,
   "metadata": {},
   "outputs": [
    {
     "name": "stdout",
     "output_type": "stream",
     "text": [
      "Optimal solution: [0.5 0.5]\n"
     ]
    }
   ],
   "source": [
    "# Solve optimization problems with constraints\n",
    "def objective(x):\n",
    "    return x[0]**2 + x[1]**2\n",
    "\n",
    "def constraint(x):\n",
    "    return x[0] + x[1] - 1\n",
    "\n",
    "initial_guess = [0.5, 0.5]\n",
    "bounds = [(-1, 1), (-1, 1)]\n",
    "constraint_obj = {'type': 'eq', 'fun': constraint}\n",
    "\n",
    "result = minimize(objective, initial_guess, bounds=bounds, constraints=constraint_obj)\n",
    "print(f'Optimal solution: {result.x}')"
   ]
  },
  {
   "cell_type": "code",
   "execution_count": null,
   "metadata": {},
   "outputs": [],
   "source": []
  }
 ],
 "metadata": {
  "kernelspec": {
   "display_name": "Python 3",
   "language": "python",
   "name": "python3"
  },
  "language_info": {
   "codemirror_mode": {
    "name": "ipython",
    "version": 3
   },
   "file_extension": ".py",
   "mimetype": "text/x-python",
   "name": "python",
   "nbconvert_exporter": "python",
   "pygments_lexer": "ipython3",
   "version": "3.12.1"
  }
 },
 "nbformat": 4,
 "nbformat_minor": 2
}
