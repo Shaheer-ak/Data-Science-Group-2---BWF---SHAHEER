{
 "cells": [
  {
   "cell_type": "code",
   "execution_count": 1,
   "metadata": {},
   "outputs": [],
   "source": [
    "import numpy as np\n",
    "import pandas as pd\n",
    "from sklearn.datasets import load_iris\n",
    "from sklearn.model_selection import train_test_split, cross_val_score\n",
    "from sklearn.metrics import accuracy_score, classification_report\n",
    "from sklearn.tree import DecisionTreeClassifier\n",
    "from sklearn.linear_model import LogisticRegression\n",
    "import matplotlib.pyplot as plt"
   ]
  },
  {
   "cell_type": "markdown",
   "metadata": {},
   "source": [
    "## Load the Dataset"
   ]
  },
  {
   "cell_type": "code",
   "execution_count": 2,
   "metadata": {},
   "outputs": [],
   "source": [
    "# Load the Iris dataset\n",
    "iris = load_iris()\n",
    "X = iris.data\n",
    "y = iris.target"
   ]
  },
  {
   "cell_type": "markdown",
   "metadata": {},
   "source": [
    "## Split the Dataset\n"
   ]
  },
  {
   "cell_type": "code",
   "execution_count": 3,
   "metadata": {},
   "outputs": [],
   "source": [
    "# Split the dataset into training and test sets\n",
    "X_train, X_test, y_train, y_test = train_test_split(X, y, test_size=0.2, random_state=42)"
   ]
  },
  {
   "cell_type": "markdown",
   "metadata": {},
   "source": [
    "## Cross-Validation Example"
   ]
  },
  {
   "cell_type": "code",
   "execution_count": 4,
   "metadata": {},
   "outputs": [
    {
     "name": "stdout",
     "output_type": "stream",
     "text": [
      "Cross-Validation Scores: [0.96666667 0.96666667 0.9        0.96666667 1.        ]\n",
      "Mean Cross-Validation Score: 0.9600000000000002\n"
     ]
    }
   ],
   "source": [
    "# Perform k-fold cross-validation with DecisionTreeClassifier\n",
    "classifier = DecisionTreeClassifier()\n",
    "cv_scores = cross_val_score(classifier, X, y, cv=5)\n",
    "print(\"Cross-Validation Scores:\", cv_scores)\n",
    "print(\"Mean Cross-Validation Score:\", np.mean(cv_scores))"
   ]
  },
  {
   "cell_type": "markdown",
   "metadata": {},
   "source": [
    "## Overfitting Example"
   ]
  },
  {
   "cell_type": "code",
   "execution_count": 5,
   "metadata": {},
   "outputs": [
    {
     "name": "stdout",
     "output_type": "stream",
     "text": [
      "Training Accuracy (Overfitting Model): 1.0\n",
      "Test Accuracy (Overfitting Model): 1.0\n"
     ]
    }
   ],
   "source": [
    "# Overfitting with a DecisionTreeClassifier with high max_depth\n",
    "overfitting_model = DecisionTreeClassifier(max_depth=20)\n",
    "overfitting_model.fit(X_train, y_train)\n",
    "\n",
    "# Evaluate on training set\n",
    "train_pred = overfitting_model.predict(X_train)\n",
    "print(\"Training Accuracy (Overfitting Model):\", accuracy_score(y_train, train_pred))\n",
    "\n",
    "# Evaluate on test set\n",
    "test_pred = overfitting_model.predict(X_test)\n",
    "print(\"Test Accuracy (Overfitting Model):\", accuracy_score(y_test, test_pred))"
   ]
  },
  {
   "cell_type": "markdown",
   "metadata": {},
   "source": [
    "## Underfitting Example\n"
   ]
  },
  {
   "cell_type": "code",
   "execution_count": 6,
   "metadata": {},
   "outputs": [
    {
     "name": "stdout",
     "output_type": "stream",
     "text": [
      "Training Accuracy (Underfitting Model): 0.875\n",
      "Test Accuracy (Underfitting Model): 0.9333333333333333\n"
     ]
    }
   ],
   "source": [
    "# Underfitting with a LogisticRegression model with high regularization\n",
    "underfitting_model = LogisticRegression(C=0.01, max_iter=200)\n",
    "underfitting_model.fit(X_train, y_train)\n",
    "\n",
    "# Evaluate on training set\n",
    "train_pred = underfitting_model.predict(X_train)\n",
    "print(\"Training Accuracy (Underfitting Model):\", accuracy_score(y_train, train_pred))\n",
    "\n",
    "# Evaluate on test set\n",
    "test_pred = underfitting_model.predict(X_test)\n",
    "print(\"Test Accuracy (Underfitting Model):\", accuracy_score(y_test, test_pred))"
   ]
  }
 ],
 "metadata": {
  "kernelspec": {
   "display_name": "Python 3",
   "language": "python",
   "name": "python3"
  },
  "language_info": {
   "codemirror_mode": {
    "name": "ipython",
    "version": 3
   },
   "file_extension": ".py",
   "mimetype": "text/x-python",
   "name": "python",
   "nbconvert_exporter": "python",
   "pygments_lexer": "ipython3",
   "version": "3.12.1"
  }
 },
 "nbformat": 4,
 "nbformat_minor": 2
}
